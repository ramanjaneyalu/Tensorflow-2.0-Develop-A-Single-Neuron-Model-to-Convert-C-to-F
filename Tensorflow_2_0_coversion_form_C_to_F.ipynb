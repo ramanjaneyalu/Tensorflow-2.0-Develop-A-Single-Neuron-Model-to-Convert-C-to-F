{
  "nbformat": 4,
  "nbformat_minor": 0,
  "metadata": {
    "colab": {
      "name": "Tensorflow 2.0 coversion form C to F.ipynb",
      "provenance": [],
      "include_colab_link": true
    },
    "kernelspec": {
      "name": "python3",
      "display_name": "Python 3"
    }
  },
  "cells": [
    {
      "cell_type": "markdown",
      "metadata": {
        "id": "view-in-github",
        "colab_type": "text"
      },
      "source": [
        "<a href=\"https://colab.research.google.com/github/ramanjaneyalu/Tensorflow-2.0-Develop-A-Single-Neuron-Model-to-Convert-C-to-F/blob/master/Tensorflow_2_0_coversion_form_C_to_F.ipynb\" target=\"_parent\"><img src=\"https://colab.research.google.com/assets/colab-badge.svg\" alt=\"Open In Colab\"/></a>"
      ]
    },
    {
      "cell_type": "code",
      "metadata": {
        "id": "g9ZrJIlxgSRl",
        "colab_type": "code",
        "outputId": "5b6d7dc7-2a96-42b6-9ffb-555e3f1acfce",
        "colab": {
          "base_uri": "https://localhost:8080/",
          "height": 904
        }
      },
      "source": [
        "!pip install tensorflow-gpu==2.0.0.alpha0\n",
        "import tensorflow as tf\n",
        "import pandas as pd\n",
        "import numpy as np\n",
        "import seaborn as sns\n",
        "import matplotlib.pyplot as plt"
      ],
      "execution_count": 3,
      "outputs": [
        {
          "output_type": "stream",
          "text": [
            "Collecting tensorflow-gpu==2.0.0.alpha0\n",
            "\u001b[?25l  Downloading https://files.pythonhosted.org/packages/1a/66/32cffad095253219d53f6b6c2a436637bbe45ac4e7be0244557210dc3918/tensorflow_gpu-2.0.0a0-cp36-cp36m-manylinux1_x86_64.whl (332.1MB)\n",
            "\u001b[K     |████████████████████████████████| 332.1MB 48kB/s \n",
            "\u001b[?25hRequirement already satisfied: numpy<2.0,>=1.14.5 in /usr/local/lib/python3.6/dist-packages (from tensorflow-gpu==2.0.0.alpha0) (1.17.3)\n",
            "Requirement already satisfied: six>=1.10.0 in /usr/local/lib/python3.6/dist-packages (from tensorflow-gpu==2.0.0.alpha0) (1.12.0)\n",
            "Requirement already satisfied: wheel>=0.26 in /usr/local/lib/python3.6/dist-packages (from tensorflow-gpu==2.0.0.alpha0) (0.33.6)\n",
            "Requirement already satisfied: absl-py>=0.7.0 in /usr/local/lib/python3.6/dist-packages (from tensorflow-gpu==2.0.0.alpha0) (0.8.1)\n",
            "Requirement already satisfied: astor>=0.6.0 in /usr/local/lib/python3.6/dist-packages (from tensorflow-gpu==2.0.0.alpha0) (0.8.0)\n",
            "Collecting tb-nightly<1.14.0a20190302,>=1.14.0a20190301\n",
            "\u001b[?25l  Downloading https://files.pythonhosted.org/packages/a9/51/aa1d756644bf4624c03844115e4ac4058eff77acd786b26315f051a4b195/tb_nightly-1.14.0a20190301-py3-none-any.whl (3.0MB)\n",
            "\u001b[K     |████████████████████████████████| 3.0MB 71.7MB/s \n",
            "\u001b[?25hRequirement already satisfied: google-pasta>=0.1.2 in /usr/local/lib/python3.6/dist-packages (from tensorflow-gpu==2.0.0.alpha0) (0.1.7)\n",
            "Requirement already satisfied: keras-preprocessing>=1.0.5 in /usr/local/lib/python3.6/dist-packages (from tensorflow-gpu==2.0.0.alpha0) (1.1.0)\n",
            "Requirement already satisfied: keras-applications>=1.0.6 in /usr/local/lib/python3.6/dist-packages (from tensorflow-gpu==2.0.0.alpha0) (1.0.8)\n",
            "Collecting tf-estimator-nightly<1.14.0.dev2019030116,>=1.14.0.dev2019030115\n",
            "\u001b[?25l  Downloading https://files.pythonhosted.org/packages/13/82/f16063b4eed210dc2ab057930ac1da4fbe1e91b7b051a6c8370b401e6ae7/tf_estimator_nightly-1.14.0.dev2019030115-py2.py3-none-any.whl (411kB)\n",
            "\u001b[K     |████████████████████████████████| 419kB 62.5MB/s \n",
            "\u001b[?25hRequirement already satisfied: termcolor>=1.1.0 in /usr/local/lib/python3.6/dist-packages (from tensorflow-gpu==2.0.0.alpha0) (1.1.0)\n",
            "Requirement already satisfied: gast>=0.2.0 in /usr/local/lib/python3.6/dist-packages (from tensorflow-gpu==2.0.0.alpha0) (0.2.2)\n",
            "Requirement already satisfied: protobuf>=3.6.1 in /usr/local/lib/python3.6/dist-packages (from tensorflow-gpu==2.0.0.alpha0) (3.10.0)\n",
            "Requirement already satisfied: grpcio>=1.8.6 in /usr/local/lib/python3.6/dist-packages (from tensorflow-gpu==2.0.0.alpha0) (1.15.0)\n",
            "Requirement already satisfied: werkzeug>=0.11.15 in /usr/local/lib/python3.6/dist-packages (from tb-nightly<1.14.0a20190302,>=1.14.0a20190301->tensorflow-gpu==2.0.0.alpha0) (0.16.0)\n",
            "Requirement already satisfied: markdown>=2.6.8 in /usr/local/lib/python3.6/dist-packages (from tb-nightly<1.14.0a20190302,>=1.14.0a20190301->tensorflow-gpu==2.0.0.alpha0) (3.1.1)\n",
            "Requirement already satisfied: h5py in /usr/local/lib/python3.6/dist-packages (from keras-applications>=1.0.6->tensorflow-gpu==2.0.0.alpha0) (2.8.0)\n",
            "Requirement already satisfied: setuptools in /usr/local/lib/python3.6/dist-packages (from protobuf>=3.6.1->tensorflow-gpu==2.0.0.alpha0) (41.4.0)\n",
            "Installing collected packages: tb-nightly, tf-estimator-nightly, tensorflow-gpu\n",
            "Successfully installed tb-nightly-1.14.0a20190301 tensorflow-gpu-2.0.0a0 tf-estimator-nightly-1.14.0.dev2019030115\n"
          ],
          "name": "stdout"
        },
        {
          "output_type": "stream",
          "text": [
            "/usr/local/lib/python3.6/dist-packages/tensorflow/python/framework/dtypes.py:523: FutureWarning: Passing (type, 1) or '1type' as a synonym of type is deprecated; in a future version of numpy, it will be understood as (type, (1,)) / '(1,)type'.\n",
            "  _np_qint8 = np.dtype([(\"qint8\", np.int8, 1)])\n",
            "/usr/local/lib/python3.6/dist-packages/tensorflow/python/framework/dtypes.py:524: FutureWarning: Passing (type, 1) or '1type' as a synonym of type is deprecated; in a future version of numpy, it will be understood as (type, (1,)) / '(1,)type'.\n",
            "  _np_quint8 = np.dtype([(\"quint8\", np.uint8, 1)])\n",
            "/usr/local/lib/python3.6/dist-packages/tensorflow/python/framework/dtypes.py:525: FutureWarning: Passing (type, 1) or '1type' as a synonym of type is deprecated; in a future version of numpy, it will be understood as (type, (1,)) / '(1,)type'.\n",
            "  _np_qint16 = np.dtype([(\"qint16\", np.int16, 1)])\n",
            "/usr/local/lib/python3.6/dist-packages/tensorflow/python/framework/dtypes.py:526: FutureWarning: Passing (type, 1) or '1type' as a synonym of type is deprecated; in a future version of numpy, it will be understood as (type, (1,)) / '(1,)type'.\n",
            "  _np_quint16 = np.dtype([(\"quint16\", np.uint16, 1)])\n",
            "/usr/local/lib/python3.6/dist-packages/tensorflow/python/framework/dtypes.py:527: FutureWarning: Passing (type, 1) or '1type' as a synonym of type is deprecated; in a future version of numpy, it will be understood as (type, (1,)) / '(1,)type'.\n",
            "  _np_qint32 = np.dtype([(\"qint32\", np.int32, 1)])\n",
            "/usr/local/lib/python3.6/dist-packages/tensorflow/python/framework/dtypes.py:532: FutureWarning: Passing (type, 1) or '1type' as a synonym of type is deprecated; in a future version of numpy, it will be understood as (type, (1,)) / '(1,)type'.\n",
            "  np_resource = np.dtype([(\"resource\", np.ubyte, 1)])\n",
            "/usr/local/lib/python3.6/dist-packages/tensorboard/compat/tensorflow_stub/dtypes.py:541: FutureWarning: Passing (type, 1) or '1type' as a synonym of type is deprecated; in a future version of numpy, it will be understood as (type, (1,)) / '(1,)type'.\n",
            "  _np_qint8 = np.dtype([(\"qint8\", np.int8, 1)])\n",
            "/usr/local/lib/python3.6/dist-packages/tensorboard/compat/tensorflow_stub/dtypes.py:542: FutureWarning: Passing (type, 1) or '1type' as a synonym of type is deprecated; in a future version of numpy, it will be understood as (type, (1,)) / '(1,)type'.\n",
            "  _np_quint8 = np.dtype([(\"quint8\", np.uint8, 1)])\n",
            "/usr/local/lib/python3.6/dist-packages/tensorboard/compat/tensorflow_stub/dtypes.py:543: FutureWarning: Passing (type, 1) or '1type' as a synonym of type is deprecated; in a future version of numpy, it will be understood as (type, (1,)) / '(1,)type'.\n",
            "  _np_qint16 = np.dtype([(\"qint16\", np.int16, 1)])\n",
            "/usr/local/lib/python3.6/dist-packages/tensorboard/compat/tensorflow_stub/dtypes.py:544: FutureWarning: Passing (type, 1) or '1type' as a synonym of type is deprecated; in a future version of numpy, it will be understood as (type, (1,)) / '(1,)type'.\n",
            "  _np_quint16 = np.dtype([(\"quint16\", np.uint16, 1)])\n",
            "/usr/local/lib/python3.6/dist-packages/tensorboard/compat/tensorflow_stub/dtypes.py:545: FutureWarning: Passing (type, 1) or '1type' as a synonym of type is deprecated; in a future version of numpy, it will be understood as (type, (1,)) / '(1,)type'.\n",
            "  _np_qint32 = np.dtype([(\"qint32\", np.int32, 1)])\n",
            "/usr/local/lib/python3.6/dist-packages/tensorboard/compat/tensorflow_stub/dtypes.py:550: FutureWarning: Passing (type, 1) or '1type' as a synonym of type is deprecated; in a future version of numpy, it will be understood as (type, (1,)) / '(1,)type'.\n",
            "  np_resource = np.dtype([(\"resource\", np.ubyte, 1)])\n"
          ],
          "name": "stderr"
        }
      ]
    },
    {
      "cell_type": "code",
      "metadata": {
        "id": "qUryV9nSgfbM",
        "colab_type": "code",
        "outputId": "82317966-a884-41fe-ae0f-1357a33a8296",
        "colab": {
          "base_uri": "https://localhost:8080/",
          "height": 122
        }
      },
      "source": [
        "from google.colab import drive\n",
        "drive.mount('/content/drive')"
      ],
      "execution_count": 4,
      "outputs": [
        {
          "output_type": "stream",
          "text": [
            "Go to this URL in a browser: https://accounts.google.com/o/oauth2/auth?client_id=947318989803-6bn6qk8qdgf4n4g3pfee6491hc0brc4i.apps.googleusercontent.com&redirect_uri=urn%3Aietf%3Awg%3Aoauth%3A2.0%3Aoob&scope=email%20https%3A%2F%2Fwww.googleapis.com%2Fauth%2Fdocs.test%20https%3A%2F%2Fwww.googleapis.com%2Fauth%2Fdrive%20https%3A%2F%2Fwww.googleapis.com%2Fauth%2Fdrive.photos.readonly%20https%3A%2F%2Fwww.googleapis.com%2Fauth%2Fpeopleapi.readonly&response_type=code\n",
            "\n",
            "Enter your authorization code:\n",
            "··········\n",
            "Mounted at /content/drive\n"
          ],
          "name": "stdout"
        }
      ]
    },
    {
      "cell_type": "code",
      "metadata": {
        "colab_type": "code",
        "id": "UKtsKhfHjOjk",
        "colab": {}
      },
      "source": [
        "Temperature_df = pd.read_csv('/content/drive/My Drive/Celsius-to-Fahrenheit.csv')\n",
        "Temperature_df.reset_index(drop=True, inplace=True)"
      ],
      "execution_count": 0,
      "outputs": []
    },
    {
      "cell_type": "code",
      "metadata": {
        "id": "tjXrQp6Ojtq3",
        "colab_type": "code",
        "colab": {
          "base_uri": "https://localhost:8080/",
          "height": 979
        },
        "outputId": "1c8861be-71a2-4581-bbe5-1c9b5ebcc059"
      },
      "source": [
        "Temperature_df"
      ],
      "execution_count": 6,
      "outputs": [
        {
          "output_type": "execute_result",
          "data": {
            "text/html": [
              "<div>\n",
              "<style scoped>\n",
              "    .dataframe tbody tr th:only-of-type {\n",
              "        vertical-align: middle;\n",
              "    }\n",
              "\n",
              "    .dataframe tbody tr th {\n",
              "        vertical-align: top;\n",
              "    }\n",
              "\n",
              "    .dataframe thead th {\n",
              "        text-align: right;\n",
              "    }\n",
              "</style>\n",
              "<table border=\"1\" class=\"dataframe\">\n",
              "  <thead>\n",
              "    <tr style=\"text-align: right;\">\n",
              "      <th></th>\n",
              "      <th>Celsius</th>\n",
              "      <th>Fahrenheit</th>\n",
              "    </tr>\n",
              "  </thead>\n",
              "  <tbody>\n",
              "    <tr>\n",
              "      <th>0</th>\n",
              "      <td>-50</td>\n",
              "      <td>-58.0</td>\n",
              "    </tr>\n",
              "    <tr>\n",
              "      <th>1</th>\n",
              "      <td>-40</td>\n",
              "      <td>-40.0</td>\n",
              "    </tr>\n",
              "    <tr>\n",
              "      <th>2</th>\n",
              "      <td>-30</td>\n",
              "      <td>-22.0</td>\n",
              "    </tr>\n",
              "    <tr>\n",
              "      <th>3</th>\n",
              "      <td>-20</td>\n",
              "      <td>-4.0</td>\n",
              "    </tr>\n",
              "    <tr>\n",
              "      <th>4</th>\n",
              "      <td>-10</td>\n",
              "      <td>14.0</td>\n",
              "    </tr>\n",
              "    <tr>\n",
              "      <th>5</th>\n",
              "      <td>-9</td>\n",
              "      <td>15.8</td>\n",
              "    </tr>\n",
              "    <tr>\n",
              "      <th>6</th>\n",
              "      <td>-8</td>\n",
              "      <td>17.6</td>\n",
              "    </tr>\n",
              "    <tr>\n",
              "      <th>7</th>\n",
              "      <td>-7</td>\n",
              "      <td>19.4</td>\n",
              "    </tr>\n",
              "    <tr>\n",
              "      <th>8</th>\n",
              "      <td>-6</td>\n",
              "      <td>21.2</td>\n",
              "    </tr>\n",
              "    <tr>\n",
              "      <th>9</th>\n",
              "      <td>-5</td>\n",
              "      <td>23.0</td>\n",
              "    </tr>\n",
              "    <tr>\n",
              "      <th>10</th>\n",
              "      <td>-4</td>\n",
              "      <td>24.8</td>\n",
              "    </tr>\n",
              "    <tr>\n",
              "      <th>11</th>\n",
              "      <td>-3</td>\n",
              "      <td>26.6</td>\n",
              "    </tr>\n",
              "    <tr>\n",
              "      <th>12</th>\n",
              "      <td>-2</td>\n",
              "      <td>28.4</td>\n",
              "    </tr>\n",
              "    <tr>\n",
              "      <th>13</th>\n",
              "      <td>-1</td>\n",
              "      <td>30.2</td>\n",
              "    </tr>\n",
              "    <tr>\n",
              "      <th>14</th>\n",
              "      <td>0</td>\n",
              "      <td>32.0</td>\n",
              "    </tr>\n",
              "    <tr>\n",
              "      <th>15</th>\n",
              "      <td>1</td>\n",
              "      <td>33.8</td>\n",
              "    </tr>\n",
              "    <tr>\n",
              "      <th>16</th>\n",
              "      <td>2</td>\n",
              "      <td>35.6</td>\n",
              "    </tr>\n",
              "    <tr>\n",
              "      <th>17</th>\n",
              "      <td>3</td>\n",
              "      <td>37.4</td>\n",
              "    </tr>\n",
              "    <tr>\n",
              "      <th>18</th>\n",
              "      <td>4</td>\n",
              "      <td>39.2</td>\n",
              "    </tr>\n",
              "    <tr>\n",
              "      <th>19</th>\n",
              "      <td>5</td>\n",
              "      <td>41.0</td>\n",
              "    </tr>\n",
              "    <tr>\n",
              "      <th>20</th>\n",
              "      <td>6</td>\n",
              "      <td>42.8</td>\n",
              "    </tr>\n",
              "    <tr>\n",
              "      <th>21</th>\n",
              "      <td>7</td>\n",
              "      <td>44.6</td>\n",
              "    </tr>\n",
              "    <tr>\n",
              "      <th>22</th>\n",
              "      <td>8</td>\n",
              "      <td>46.4</td>\n",
              "    </tr>\n",
              "    <tr>\n",
              "      <th>23</th>\n",
              "      <td>9</td>\n",
              "      <td>48.2</td>\n",
              "    </tr>\n",
              "    <tr>\n",
              "      <th>24</th>\n",
              "      <td>10</td>\n",
              "      <td>50.0</td>\n",
              "    </tr>\n",
              "    <tr>\n",
              "      <th>25</th>\n",
              "      <td>20</td>\n",
              "      <td>68.0</td>\n",
              "    </tr>\n",
              "    <tr>\n",
              "      <th>26</th>\n",
              "      <td>30</td>\n",
              "      <td>86.0</td>\n",
              "    </tr>\n",
              "    <tr>\n",
              "      <th>27</th>\n",
              "      <td>40</td>\n",
              "      <td>104.0</td>\n",
              "    </tr>\n",
              "    <tr>\n",
              "      <th>28</th>\n",
              "      <td>50</td>\n",
              "      <td>122.0</td>\n",
              "    </tr>\n",
              "    <tr>\n",
              "      <th>29</th>\n",
              "      <td>60</td>\n",
              "      <td>140.0</td>\n",
              "    </tr>\n",
              "  </tbody>\n",
              "</table>\n",
              "</div>"
            ],
            "text/plain": [
              "    Celsius  Fahrenheit\n",
              "0       -50       -58.0\n",
              "1       -40       -40.0\n",
              "2       -30       -22.0\n",
              "3       -20        -4.0\n",
              "4       -10        14.0\n",
              "5        -9        15.8\n",
              "6        -8        17.6\n",
              "7        -7        19.4\n",
              "8        -6        21.2\n",
              "9        -5        23.0\n",
              "10       -4        24.8\n",
              "11       -3        26.6\n",
              "12       -2        28.4\n",
              "13       -1        30.2\n",
              "14        0        32.0\n",
              "15        1        33.8\n",
              "16        2        35.6\n",
              "17        3        37.4\n",
              "18        4        39.2\n",
              "19        5        41.0\n",
              "20        6        42.8\n",
              "21        7        44.6\n",
              "22        8        46.4\n",
              "23        9        48.2\n",
              "24       10        50.0\n",
              "25       20        68.0\n",
              "26       30        86.0\n",
              "27       40       104.0\n",
              "28       50       122.0\n",
              "29       60       140.0"
            ]
          },
          "metadata": {
            "tags": []
          },
          "execution_count": 6
        }
      ]
    },
    {
      "cell_type": "code",
      "metadata": {
        "id": "AhM-010aj_0W",
        "colab_type": "code",
        "colab": {
          "base_uri": "https://localhost:8080/",
          "height": 204
        },
        "outputId": "9c4dd5d0-eecd-4b97-fcbd-1aa91af71f6b"
      },
      "source": [
        "Temperature_df.head(5)"
      ],
      "execution_count": 7,
      "outputs": [
        {
          "output_type": "execute_result",
          "data": {
            "text/html": [
              "<div>\n",
              "<style scoped>\n",
              "    .dataframe tbody tr th:only-of-type {\n",
              "        vertical-align: middle;\n",
              "    }\n",
              "\n",
              "    .dataframe tbody tr th {\n",
              "        vertical-align: top;\n",
              "    }\n",
              "\n",
              "    .dataframe thead th {\n",
              "        text-align: right;\n",
              "    }\n",
              "</style>\n",
              "<table border=\"1\" class=\"dataframe\">\n",
              "  <thead>\n",
              "    <tr style=\"text-align: right;\">\n",
              "      <th></th>\n",
              "      <th>Celsius</th>\n",
              "      <th>Fahrenheit</th>\n",
              "    </tr>\n",
              "  </thead>\n",
              "  <tbody>\n",
              "    <tr>\n",
              "      <th>0</th>\n",
              "      <td>-50</td>\n",
              "      <td>-58.0</td>\n",
              "    </tr>\n",
              "    <tr>\n",
              "      <th>1</th>\n",
              "      <td>-40</td>\n",
              "      <td>-40.0</td>\n",
              "    </tr>\n",
              "    <tr>\n",
              "      <th>2</th>\n",
              "      <td>-30</td>\n",
              "      <td>-22.0</td>\n",
              "    </tr>\n",
              "    <tr>\n",
              "      <th>3</th>\n",
              "      <td>-20</td>\n",
              "      <td>-4.0</td>\n",
              "    </tr>\n",
              "    <tr>\n",
              "      <th>4</th>\n",
              "      <td>-10</td>\n",
              "      <td>14.0</td>\n",
              "    </tr>\n",
              "  </tbody>\n",
              "</table>\n",
              "</div>"
            ],
            "text/plain": [
              "   Celsius  Fahrenheit\n",
              "0      -50       -58.0\n",
              "1      -40       -40.0\n",
              "2      -30       -22.0\n",
              "3      -20        -4.0\n",
              "4      -10        14.0"
            ]
          },
          "metadata": {
            "tags": []
          },
          "execution_count": 7
        }
      ]
    },
    {
      "cell_type": "code",
      "metadata": {
        "id": "RgwvWLJskD4M",
        "colab_type": "code",
        "colab": {
          "base_uri": "https://localhost:8080/",
          "height": 204
        },
        "outputId": "3cc54dc5-596f-4b48-e798-9957d0ed8454"
      },
      "source": [
        "Temperature_df.tail(5)"
      ],
      "execution_count": 8,
      "outputs": [
        {
          "output_type": "execute_result",
          "data": {
            "text/html": [
              "<div>\n",
              "<style scoped>\n",
              "    .dataframe tbody tr th:only-of-type {\n",
              "        vertical-align: middle;\n",
              "    }\n",
              "\n",
              "    .dataframe tbody tr th {\n",
              "        vertical-align: top;\n",
              "    }\n",
              "\n",
              "    .dataframe thead th {\n",
              "        text-align: right;\n",
              "    }\n",
              "</style>\n",
              "<table border=\"1\" class=\"dataframe\">\n",
              "  <thead>\n",
              "    <tr style=\"text-align: right;\">\n",
              "      <th></th>\n",
              "      <th>Celsius</th>\n",
              "      <th>Fahrenheit</th>\n",
              "    </tr>\n",
              "  </thead>\n",
              "  <tbody>\n",
              "    <tr>\n",
              "      <th>25</th>\n",
              "      <td>20</td>\n",
              "      <td>68.0</td>\n",
              "    </tr>\n",
              "    <tr>\n",
              "      <th>26</th>\n",
              "      <td>30</td>\n",
              "      <td>86.0</td>\n",
              "    </tr>\n",
              "    <tr>\n",
              "      <th>27</th>\n",
              "      <td>40</td>\n",
              "      <td>104.0</td>\n",
              "    </tr>\n",
              "    <tr>\n",
              "      <th>28</th>\n",
              "      <td>50</td>\n",
              "      <td>122.0</td>\n",
              "    </tr>\n",
              "    <tr>\n",
              "      <th>29</th>\n",
              "      <td>60</td>\n",
              "      <td>140.0</td>\n",
              "    </tr>\n",
              "  </tbody>\n",
              "</table>\n",
              "</div>"
            ],
            "text/plain": [
              "    Celsius  Fahrenheit\n",
              "25       20        68.0\n",
              "26       30        86.0\n",
              "27       40       104.0\n",
              "28       50       122.0\n",
              "29       60       140.0"
            ]
          },
          "metadata": {
            "tags": []
          },
          "execution_count": 8
        }
      ]
    },
    {
      "cell_type": "code",
      "metadata": {
        "id": "3gGzt3rIkGcb",
        "colab_type": "code",
        "colab": {
          "base_uri": "https://localhost:8080/",
          "height": 136
        },
        "outputId": "0b75be9c-cca4-4cc1-881e-ab755062971a"
      },
      "source": [
        "Temperature_df.info()"
      ],
      "execution_count": 9,
      "outputs": [
        {
          "output_type": "stream",
          "text": [
            "<class 'pandas.core.frame.DataFrame'>\n",
            "RangeIndex: 30 entries, 0 to 29\n",
            "Data columns (total 2 columns):\n",
            "Celsius       30 non-null int64\n",
            "Fahrenheit    30 non-null float64\n",
            "dtypes: float64(1), int64(1)\n",
            "memory usage: 608.0 bytes\n"
          ],
          "name": "stdout"
        }
      ]
    },
    {
      "cell_type": "code",
      "metadata": {
        "id": "6F7qQaD-kJ11",
        "colab_type": "code",
        "colab": {
          "base_uri": "https://localhost:8080/",
          "height": 297
        },
        "outputId": "2f93e38f-1565-458a-ade4-3778d1c9ae78"
      },
      "source": [
        "Temperature_df.describe()"
      ],
      "execution_count": 10,
      "outputs": [
        {
          "output_type": "execute_result",
          "data": {
            "text/html": [
              "<div>\n",
              "<style scoped>\n",
              "    .dataframe tbody tr th:only-of-type {\n",
              "        vertical-align: middle;\n",
              "    }\n",
              "\n",
              "    .dataframe tbody tr th {\n",
              "        vertical-align: top;\n",
              "    }\n",
              "\n",
              "    .dataframe thead th {\n",
              "        text-align: right;\n",
              "    }\n",
              "</style>\n",
              "<table border=\"1\" class=\"dataframe\">\n",
              "  <thead>\n",
              "    <tr style=\"text-align: right;\">\n",
              "      <th></th>\n",
              "      <th>Celsius</th>\n",
              "      <th>Fahrenheit</th>\n",
              "    </tr>\n",
              "  </thead>\n",
              "  <tbody>\n",
              "    <tr>\n",
              "      <th>count</th>\n",
              "      <td>30.000000</td>\n",
              "      <td>30.000000</td>\n",
              "    </tr>\n",
              "    <tr>\n",
              "      <th>mean</th>\n",
              "      <td>2.000000</td>\n",
              "      <td>35.600000</td>\n",
              "    </tr>\n",
              "    <tr>\n",
              "      <th>std</th>\n",
              "      <td>22.780815</td>\n",
              "      <td>41.005466</td>\n",
              "    </tr>\n",
              "    <tr>\n",
              "      <th>min</th>\n",
              "      <td>-50.000000</td>\n",
              "      <td>-58.000000</td>\n",
              "    </tr>\n",
              "    <tr>\n",
              "      <th>25%</th>\n",
              "      <td>-6.750000</td>\n",
              "      <td>19.850000</td>\n",
              "    </tr>\n",
              "    <tr>\n",
              "      <th>50%</th>\n",
              "      <td>0.500000</td>\n",
              "      <td>32.900000</td>\n",
              "    </tr>\n",
              "    <tr>\n",
              "      <th>75%</th>\n",
              "      <td>7.750000</td>\n",
              "      <td>45.950000</td>\n",
              "    </tr>\n",
              "    <tr>\n",
              "      <th>max</th>\n",
              "      <td>60.000000</td>\n",
              "      <td>140.000000</td>\n",
              "    </tr>\n",
              "  </tbody>\n",
              "</table>\n",
              "</div>"
            ],
            "text/plain": [
              "         Celsius  Fahrenheit\n",
              "count  30.000000   30.000000\n",
              "mean    2.000000   35.600000\n",
              "std    22.780815   41.005466\n",
              "min   -50.000000  -58.000000\n",
              "25%    -6.750000   19.850000\n",
              "50%     0.500000   32.900000\n",
              "75%     7.750000   45.950000\n",
              "max    60.000000  140.000000"
            ]
          },
          "metadata": {
            "tags": []
          },
          "execution_count": 10
        }
      ]
    },
    {
      "cell_type": "code",
      "metadata": {
        "id": "KIVvlLZBkMdu",
        "colab_type": "code",
        "colab": {
          "base_uri": "https://localhost:8080/",
          "height": 296
        },
        "outputId": "1e429a7a-9de1-431f-bb4e-fdb73ecf34c7"
      },
      "source": [
        "sns.scatterplot(Temperature_df['Celsius'], Temperature_df['Fahrenheit'])"
      ],
      "execution_count": 11,
      "outputs": [
        {
          "output_type": "execute_result",
          "data": {
            "text/plain": [
              "<matplotlib.axes._subplots.AxesSubplot at 0x7f59b924ba90>"
            ]
          },
          "metadata": {
            "tags": []
          },
          "execution_count": 11
        },
        {
          "output_type": "display_data",
          "data": {
            "image/png": "[encoded data removed]",
            "text/plain": [
              "<Figure size 432x288 with 1 Axes>"
            ]
          },
          "metadata": {
            "tags": []
          }
        }
      ]
    },
    {
      "cell_type": "code",
      "metadata": {
        "id": "Cw8lYQDOmg-a",
        "colab_type": "code",
        "colab": {}
      },
      "source": [
        "X_train = Temperature_df['Celsius']\n",
        "y_train = Temperature_df['Fahrenheit']"
      ],
      "execution_count": 0,
      "outputs": []
    },
    {
      "cell_type": "code",
      "metadata": {
        "id": "RaWiV_6-mlwK",
        "colab_type": "code",
        "colab": {
          "base_uri": "https://localhost:8080/",
          "height": 34
        },
        "outputId": "f75b4446-878c-4501-e60c-1a0278e1eab3"
      },
      "source": [
        "X_train.shape"
      ],
      "execution_count": 13,
      "outputs": [
        {
          "output_type": "execute_result",
          "data": {
            "text/plain": [
              "(30,)"
            ]
          },
          "metadata": {
            "tags": []
          },
          "execution_count": 13
        }
      ]
    },
    {
      "cell_type": "code",
      "metadata": {
        "id": "uVa-hvBQmp_F",
        "colab_type": "code",
        "colab": {
          "base_uri": "https://localhost:8080/",
          "height": 34
        },
        "outputId": "bd27e4a5-f2fb-4808-db77-5883973a63f9"
      },
      "source": [
        "y_train.shape"
      ],
      "execution_count": 14,
      "outputs": [
        {
          "output_type": "execute_result",
          "data": {
            "text/plain": [
              "(30,)"
            ]
          },
          "metadata": {
            "tags": []
          },
          "execution_count": 14
        }
      ]
    },
    {
      "cell_type": "code",
      "metadata": {
        "id": "MYMSnk3wmsXo",
        "colab_type": "code",
        "colab": {}
      },
      "source": [
        "model = tf.keras.Sequential()\n",
        "model.add(tf.keras.layers.Dense(units=1, input_shape=[1]))"
      ],
      "execution_count": 0,
      "outputs": []
    },
    {
      "cell_type": "code",
      "metadata": {
        "id": "gp-S7jf0mypN",
        "colab_type": "code",
        "colab": {
          "base_uri": "https://localhost:8080/",
          "height": 187
        },
        "outputId": "d79de5cd-d353-413d-a3bb-1cad190ba716"
      },
      "source": [
        "model.summary()"
      ],
      "execution_count": 16,
      "outputs": [
        {
          "output_type": "stream",
          "text": [
            "Model: \"sequential\"\n",
            "_________________________________________________________________\n",
            "Layer (type)                 Output Shape              Param #   \n",
            "=================================================================\n",
            "dense (Dense)                (None, 1)                 2         \n",
            "=================================================================\n",
            "Total params: 2\n",
            "Trainable params: 2\n",
            "Non-trainable params: 0\n",
            "_________________________________________________________________\n"
          ],
          "name": "stdout"
        }
      ]
    },
    {
      "cell_type": "code",
      "metadata": {
        "id": "oWYI6OSIyhHQ",
        "colab_type": "code",
        "colab": {}
      },
      "source": [
        "model.compile(optimizer=tf.keras.optimizers.Adam(1.0), loss='mean_squared_error')"
      ],
      "execution_count": 0,
      "outputs": []
    },
    {
      "cell_type": "code",
      "metadata": {
        "id": "vafvgiHo4QZH",
        "colab_type": "code",
        "colab": {
          "base_uri": "https://localhost:8080/",
          "height": 1000
        },
        "outputId": "ab8e10d2-1e41-409b-aa68-daaffb21061f"
      },
      "source": [
        "epochs_hist = model.fit(X_train, y_train, epochs = 200)"
      ],
      "execution_count": 20,
      "outputs": [
        {
          "output_type": "stream",
          "text": [
            "Epoch 1/200\n",
            "30/30 [==============================] - 0s 2ms/sample - loss: 1.4248\n",
            "Epoch 2/200\n",
            "30/30 [==============================] - 0s 50us/sample - loss: 493.9898\n",
            "Epoch 3/200\n",
            "30/30 [==============================] - 0s 45us/sample - loss: 31.1172\n",
            "Epoch 4/200\n",
            "30/30 [==============================] - 0s 46us/sample - loss: 111.6746\n",
            "Epoch 5/200\n",
            "30/30 [==============================] - 0s 53us/sample - loss: 287.5797\n",
            "Epoch 6/200\n",
            "30/30 [==============================] - 0s 44us/sample - loss: 212.4319\n",
            "Epoch 7/200\n",
            "30/30 [==============================] - 0s 48us/sample - loss: 58.0491\n",
            "Epoch 8/200\n",
            "30/30 [==============================] - 0s 57us/sample - loss: 0.6973\n",
            "Epoch 9/200\n",
            "30/30 [==============================] - 0s 47us/sample - loss: 64.1505\n",
            "Epoch 10/200\n",
            "30/30 [==============================] - 0s 45us/sample - loss: 137.2545\n",
            "Epoch 11/200\n",
            "30/30 [==============================] - 0s 44us/sample - loss: 130.3074\n",
            "Epoch 12/200\n",
            "30/30 [==============================] - 0s 53us/sample - loss: 63.5352\n",
            "Epoch 13/200\n",
            "30/30 [==============================] - 0s 50us/sample - loss: 7.7841\n",
            "Epoch 14/200\n",
            "30/30 [==============================] - 0s 52us/sample - loss: 7.6383\n",
            "Epoch 15/200\n",
            "30/30 [==============================] - 0s 56us/sample - loss: 47.4570\n",
            "Epoch 16/200\n",
            "30/30 [==============================] - 0s 49us/sample - loss: 76.1373\n",
            "Epoch 17/200\n",
            "30/30 [==============================] - 0s 44us/sample - loss: 64.4131\n",
            "Epoch 18/200\n",
            "30/30 [==============================] - 0s 44us/sample - loss: 27.8939\n",
            "Epoch 19/200\n",
            "30/30 [==============================] - 0s 44us/sample - loss: 1.9905\n",
            "Epoch 20/200\n",
            "30/30 [==============================] - 0s 42us/sample - loss: 6.1640\n",
            "Epoch 21/200\n",
            "30/30 [==============================] - 0s 47us/sample - loss: 28.6032\n",
            "Epoch 22/200\n",
            "30/30 [==============================] - 0s 50us/sample - loss: 42.1178\n",
            "Epoch 23/200\n",
            "30/30 [==============================] - 0s 48us/sample - loss: 33.2317\n",
            "Epoch 24/200\n",
            "30/30 [==============================] - 0s 46us/sample - loss: 12.6259\n",
            "Epoch 25/200\n",
            "30/30 [==============================] - 0s 45us/sample - loss: 0.4115\n",
            "Epoch 26/200\n",
            "30/30 [==============================] - 0s 49us/sample - loss: 5.4280\n",
            "Epoch 27/200\n",
            "30/30 [==============================] - 0s 47us/sample - loss: 18.3331\n",
            "Epoch 28/200\n",
            "30/30 [==============================] - 0s 44us/sample - loss: 23.5499\n",
            "Epoch 29/200\n",
            "30/30 [==============================] - 0s 49us/sample - loss: 15.9637\n",
            "Epoch 30/200\n",
            "30/30 [==============================] - 0s 54us/sample - loss: 4.3087\n",
            "Epoch 31/200\n",
            "30/30 [==============================] - 0s 51us/sample - loss: 0.0796\n",
            "Epoch 32/200\n",
            "30/30 [==============================] - 0s 44us/sample - loss: 5.4474\n",
            "Epoch 33/200\n",
            "30/30 [==============================] - 0s 45us/sample - loss: 12.3749\n",
            "Epoch 34/200\n",
            "30/30 [==============================] - 0s 46us/sample - loss: 12.5615\n",
            "Epoch 35/200\n",
            "30/30 [==============================] - 0s 51us/sample - loss: 6.2669\n",
            "Epoch 36/200\n",
            "30/30 [==============================] - 0s 44us/sample - loss: 0.6521\n",
            "Epoch 37/200\n",
            "30/30 [==============================] - 0s 52us/sample - loss: 1.0429\n",
            "Epoch 38/200\n",
            "30/30 [==============================] - 0s 49us/sample - loss: 5.4512\n",
            "Epoch 39/200\n",
            "30/30 [==============================] - 0s 46us/sample - loss: 7.8451\n",
            "Epoch 40/200\n",
            "30/30 [==============================] - 0s 43us/sample - loss: 5.4566\n",
            "Epoch 41/200\n",
            "30/30 [==============================] - 0s 48us/sample - loss: 1.3573\n",
            "Epoch 42/200\n",
            "30/30 [==============================] - 0s 42us/sample - loss: 0.0835\n",
            "Epoch 43/200\n",
            "30/30 [==============================] - 0s 45us/sample - loss: 2.2628\n",
            "Epoch 44/200\n",
            "30/30 [==============================] - 0s 54us/sample - loss: 4.4856\n",
            "Epoch 45/200\n",
            "30/30 [==============================] - 0s 47us/sample - loss: 3.8768\n",
            "Epoch 46/200\n",
            "30/30 [==============================] - 0s 45us/sample - loss: 1.3718\n",
            "Epoch 47/200\n",
            "30/30 [==============================] - 0s 50us/sample - loss: 0.0095\n",
            "Epoch 48/200\n",
            "30/30 [==============================] - 0s 54us/sample - loss: 0.9928\n",
            "Epoch 49/200\n",
            "30/30 [==============================] - 0s 45us/sample - loss: 2.5312\n",
            "Epoch 50/200\n",
            "30/30 [==============================] - 0s 43us/sample - loss: 2.4765\n",
            "Epoch 51/200\n",
            "30/30 [==============================] - 0s 46us/sample - loss: 1.0021\n",
            "Epoch 52/200\n",
            "30/30 [==============================] - 0s 50us/sample - loss: 0.0178\n",
            "Epoch 53/200\n",
            "30/30 [==============================] - 0s 45us/sample - loss: 0.5236\n",
            "Epoch 54/200\n",
            "30/30 [==============================] - 0s 44us/sample - loss: 1.5011\n",
            "Epoch 55/200\n",
            "30/30 [==============================] - 0s 45us/sample - loss: 1.5169\n",
            "Epoch 56/200\n",
            "30/30 [==============================] - 0s 45us/sample - loss: 0.6113\n",
            "Epoch 57/200\n",
            "30/30 [==============================] - 0s 48us/sample - loss: 0.0083\n",
            "Epoch 58/200\n",
            "30/30 [==============================] - 0s 45us/sample - loss: 0.3447\n",
            "Epoch 59/200\n",
            "30/30 [==============================] - 0s 53us/sample - loss: 0.9363\n",
            "Epoch 60/200\n",
            "30/30 [==============================] - 0s 48us/sample - loss: 0.8873\n",
            "Epoch 61/200\n",
            "30/30 [==============================] - 0s 47us/sample - loss: 0.3077\n",
            "Epoch 62/200\n",
            "30/30 [==============================] - 0s 46us/sample - loss: 0.0019\n",
            "Epoch 63/200\n",
            "30/30 [==============================] - 0s 52us/sample - loss: 0.2773\n",
            "Epoch 64/200\n",
            "30/30 [==============================] - 0s 46us/sample - loss: 0.6091\n",
            "Epoch 65/200\n",
            "30/30 [==============================] - 0s 44us/sample - loss: 0.4894\n",
            "Epoch 66/200\n",
            "30/30 [==============================] - 0s 51us/sample - loss: 0.1191\n",
            "Epoch 67/200\n",
            "30/30 [==============================] - 0s 50us/sample - loss: 0.0140\n",
            "Epoch 68/200\n",
            "30/30 [==============================] - 0s 45us/sample - loss: 0.2379\n",
            "Epoch 69/200\n",
            "30/30 [==============================] - 0s 45us/sample - loss: 0.3875\n",
            "Epoch 70/200\n",
            "30/30 [==============================] - 0s 49us/sample - loss: 0.2366\n",
            "Epoch 71/200\n",
            "30/30 [==============================] - 0s 45us/sample - loss: 0.0260\n",
            "Epoch 72/200\n",
            "30/30 [==============================] - 0s 44us/sample - loss: 0.0428\n",
            "Epoch 73/200\n",
            "30/30 [==============================] - 0s 51us/sample - loss: 0.2008\n",
            "Epoch 74/200\n",
            "30/30 [==============================] - 0s 51us/sample - loss: 0.2270\n",
            "Epoch 75/200\n",
            "30/30 [==============================] - 0s 45us/sample - loss: 0.0885\n",
            "Epoch 76/200\n",
            "30/30 [==============================] - 0s 44us/sample - loss: 8.8447e-05\n",
            "Epoch 77/200\n",
            "30/30 [==============================] - 0s 46us/sample - loss: 0.0677\n",
            "Epoch 78/200\n",
            "30/30 [==============================] - 0s 51us/sample - loss: 0.1499\n",
            "Epoch 79/200\n",
            "30/30 [==============================] - 0s 45us/sample - loss: 0.1097\n",
            "Epoch 80/200\n",
            "30/30 [==============================] - 0s 46us/sample - loss: 0.0179\n",
            "Epoch 81/200\n",
            "30/30 [==============================] - 0s 52us/sample - loss: 0.0117\n",
            "Epoch 82/200\n",
            "30/30 [==============================] - 0s 44us/sample - loss: 0.0759\n",
            "Epoch 83/200\n",
            "30/30 [==============================] - 0s 44us/sample - loss: 0.0918\n",
            "Epoch 84/200\n",
            "30/30 [==============================] - 0s 49us/sample - loss: 0.0360\n",
            "Epoch 85/200\n",
            "30/30 [==============================] - 0s 46us/sample - loss: 1.1584e-06\n",
            "Epoch 86/200\n",
            "30/30 [==============================] - 0s 45us/sample - loss: 0.0295\n",
            "Epoch 87/200\n",
            "30/30 [==============================] - 0s 44us/sample - loss: 0.0612\n",
            "Epoch 88/200\n",
            "30/30 [==============================] - 0s 74us/sample - loss: 0.0401\n",
            "Epoch 89/200\n",
            "30/30 [==============================] - 0s 51us/sample - loss: 0.0041\n",
            "Epoch 90/200\n",
            "30/30 [==============================] - 0s 45us/sample - loss: 0.0084\n",
            "Epoch 91/200\n",
            "30/30 [==============================] - 0s 45us/sample - loss: 0.0350\n",
            "Epoch 92/200\n",
            "30/30 [==============================] - 0s 45us/sample - loss: 0.0340\n",
            "Epoch 93/200\n",
            "30/30 [==============================] - 0s 43us/sample - loss: 0.0086\n",
            "Epoch 94/200\n",
            "30/30 [==============================] - 0s 45us/sample - loss: 0.0012\n",
            "Epoch 95/200\n",
            "30/30 [==============================] - 0s 52us/sample - loss: 0.0178\n",
            "Epoch 96/200\n",
            "30/30 [==============================] - 0s 45us/sample - loss: 0.0248\n",
            "Epoch 97/200\n",
            "30/30 [==============================] - 0s 60us/sample - loss: 0.0103\n",
            "Epoch 98/200\n",
            "30/30 [==============================] - 0s 66us/sample - loss: 6.1617e-05\n",
            "Epoch 99/200\n",
            "30/30 [==============================] - 0s 41us/sample - loss: 0.0083\n",
            "Epoch 100/200\n",
            "30/30 [==============================] - 0s 45us/sample - loss: 0.0164\n",
            "Epoch 101/200\n",
            "30/30 [==============================] - 0s 48us/sample - loss: 0.0095\n",
            "Epoch 102/200\n",
            "30/30 [==============================] - 0s 51us/sample - loss: 4.1150e-04\n",
            "Epoch 103/200\n",
            "30/30 [==============================] - 0s 45us/sample - loss: 0.0036\n",
            "Epoch 104/200\n",
            "30/30 [==============================] - 0s 51us/sample - loss: 0.0104\n",
            "Epoch 105/200\n",
            "30/30 [==============================] - 0s 49us/sample - loss: 0.0076\n",
            "Epoch 106/200\n",
            "30/30 [==============================] - 0s 45us/sample - loss: 8.7455e-04\n",
            "Epoch 107/200\n",
            "30/30 [==============================] - 0s 46us/sample - loss: 0.0015\n",
            "Epoch 108/200\n",
            "30/30 [==============================] - 0s 49us/sample - loss: 0.0063\n",
            "Epoch 109/200\n",
            "30/30 [==============================] - 0s 50us/sample - loss: 0.0056\n",
            "Epoch 110/200\n",
            "30/30 [==============================] - 0s 60us/sample - loss: 9.8570e-04\n",
            "Epoch 111/200\n",
            "30/30 [==============================] - 0s 60us/sample - loss: 6.2091e-04\n",
            "Epoch 112/200\n",
            "30/30 [==============================] - 0s 45us/sample - loss: 0.0039\n",
            "Epoch 113/200\n",
            "30/30 [==============================] - 0s 40us/sample - loss: 0.0040\n",
            "Epoch 114/200\n",
            "30/30 [==============================] - 0s 46us/sample - loss: 8.9704e-04\n",
            "Epoch 115/200\n",
            "30/30 [==============================] - 0s 59us/sample - loss: 2.7219e-04\n",
            "Epoch 116/200\n",
            "30/30 [==============================] - 0s 50us/sample - loss: 0.0024\n",
            "Epoch 117/200\n",
            "30/30 [==============================] - 0s 53us/sample - loss: 0.0027\n",
            "Epoch 118/200\n",
            "30/30 [==============================] - 0s 44us/sample - loss: 6.8992e-04\n",
            "Epoch 119/200\n",
            "30/30 [==============================] - 0s 62us/sample - loss: 1.3815e-04\n",
            "Epoch 120/200\n",
            "30/30 [==============================] - 0s 61us/sample - loss: 0.0016\n",
            "Epoch 121/200\n",
            "30/30 [==============================] - 0s 47us/sample - loss: 0.0018\n",
            "Epoch 122/200\n",
            "30/30 [==============================] - 0s 49us/sample - loss: 4.8318e-04\n",
            "Epoch 123/200\n",
            "30/30 [==============================] - 0s 44us/sample - loss: 8.4479e-05\n",
            "Epoch 124/200\n",
            "30/30 [==============================] - 0s 43us/sample - loss: 0.0010\n",
            "Epoch 125/200\n",
            "30/30 [==============================] - 0s 47us/sample - loss: 0.0012\n",
            "Epoch 126/200\n",
            "30/30 [==============================] - 0s 49us/sample - loss: 3.0476e-04\n",
            "Epoch 127/200\n",
            "30/30 [==============================] - 0s 48us/sample - loss: 6.7917e-05\n",
            "Epoch 128/200\n",
            "30/30 [==============================] - 0s 45us/sample - loss: 7.0545e-04\n",
            "Epoch 129/200\n",
            "30/30 [==============================] - 0s 53us/sample - loss: 7.8366e-04\n",
            "Epoch 130/200\n",
            "30/30 [==============================] - 0s 43us/sample - loss: 1.7425e-04\n",
            "Epoch 131/200\n",
            "30/30 [==============================] - 0s 46us/sample - loss: 6.1457e-05\n",
            "Epoch 132/200\n",
            "30/30 [==============================] - 0s 49us/sample - loss: 4.9464e-04\n",
            "Epoch 133/200\n",
            "30/30 [==============================] - 0s 49us/sample - loss: 4.9758e-04\n",
            "Epoch 134/200\n",
            "30/30 [==============================] - 0s 48us/sample - loss: 8.7456e-05\n",
            "Epoch 135/200\n",
            "30/30 [==============================] - 0s 49us/sample - loss: 6.4140e-05\n",
            "Epoch 136/200\n",
            "30/30 [==============================] - 0s 56us/sample - loss: 3.5466e-04\n",
            "Epoch 137/200\n",
            "30/30 [==============================] - 0s 61us/sample - loss: 3.0662e-04\n",
            "Epoch 138/200\n",
            "30/30 [==============================] - 0s 60us/sample - loss: 3.5048e-05\n",
            "Epoch 139/200\n",
            "30/30 [==============================] - 0s 47us/sample - loss: 6.5501e-05\n",
            "Epoch 140/200\n",
            "30/30 [==============================] - 0s 47us/sample - loss: 2.5244e-04\n",
            "Epoch 141/200\n",
            "30/30 [==============================] - 0s 42us/sample - loss: 1.7905e-04\n",
            "Epoch 142/200\n",
            "30/30 [==============================] - 0s 53us/sample - loss: 9.7350e-06\n",
            "Epoch 143/200\n",
            "30/30 [==============================] - 0s 57us/sample - loss: 6.7244e-05\n",
            "Epoch 144/200\n",
            "30/30 [==============================] - 0s 42us/sample - loss: 1.7719e-04\n",
            "Epoch 145/200\n",
            "30/30 [==============================] - 0s 45us/sample - loss: 9.6311e-05\n",
            "Epoch 146/200\n",
            "30/30 [==============================] - 0s 51us/sample - loss: 4.1787e-07\n",
            "Epoch 147/200\n",
            "30/30 [==============================] - 0s 45us/sample - loss: 6.4569e-05\n",
            "Epoch 148/200\n",
            "30/30 [==============================] - 0s 45us/sample - loss: 1.1912e-04\n",
            "Epoch 149/200\n",
            "30/30 [==============================] - 0s 45us/sample - loss: 4.5687e-05\n",
            "Epoch 150/200\n",
            "30/30 [==============================] - 0s 55us/sample - loss: 1.7876e-06\n",
            "Epoch 151/200\n",
            "30/30 [==============================] - 0s 46us/sample - loss: 5.8654e-05\n",
            "Epoch 152/200\n",
            "30/30 [==============================] - 0s 46us/sample - loss: 7.5015e-05\n",
            "Epoch 153/200\n",
            "30/30 [==============================] - 0s 46us/sample - loss: 1.7032e-05\n",
            "Epoch 154/200\n",
            "30/30 [==============================] - 0s 53us/sample - loss: 6.6100e-06\n",
            "Epoch 155/200\n",
            "30/30 [==============================] - 0s 57us/sample - loss: 4.8938e-05\n",
            "Epoch 156/200\n",
            "30/30 [==============================] - 0s 73us/sample - loss: 4.2918e-05\n",
            "Epoch 157/200\n",
            "30/30 [==============================] - 0s 61us/sample - loss: 3.9883e-06\n",
            "Epoch 158/200\n",
            "30/30 [==============================] - 0s 60us/sample - loss: 1.1862e-05\n",
            "Epoch 159/200\n",
            "30/30 [==============================] - 0s 50us/sample - loss: 3.7178e-05\n",
            "Epoch 160/200\n",
            "30/30 [==============================] - 0s 48us/sample - loss: 2.0913e-05\n",
            "Epoch 161/200\n",
            "30/30 [==============================] - 0s 46us/sample - loss: 6.6707e-08\n",
            "Epoch 162/200\n",
            "30/30 [==============================] - 0s 48us/sample - loss: 1.4665e-05\n",
            "Epoch 163/200\n",
            "30/30 [==============================] - 0s 64us/sample - loss: 2.5152e-05\n",
            "Epoch 164/200\n",
            "30/30 [==============================] - 0s 63us/sample - loss: 7.9569e-06\n",
            "Epoch 165/200\n",
            "30/30 [==============================] - 0s 63us/sample - loss: 1.0909e-06\n",
            "Epoch 166/200\n",
            "30/30 [==============================] - 0s 83us/sample - loss: 1.4523e-05\n",
            "Epoch 167/200\n",
            "30/30 [==============================] - 0s 80us/sample - loss: 1.4515e-05\n",
            "Epoch 168/200\n",
            "30/30 [==============================] - 0s 59us/sample - loss: 1.6733e-06\n",
            "Epoch 169/200\n",
            "30/30 [==============================] - 0s 73us/sample - loss: 3.4038e-06\n",
            "Epoch 170/200\n",
            "30/30 [==============================] - 0s 56us/sample - loss: 1.1885e-05\n",
            "Epoch 171/200\n",
            "30/30 [==============================] - 0s 62us/sample - loss: 6.7361e-06\n",
            "Epoch 172/200\n",
            "30/30 [==============================] - 0s 83us/sample - loss: 2.7278e-08\n",
            "Epoch 173/200\n",
            "30/30 [==============================] - 0s 63us/sample - loss: 5.0045e-06\n",
            "Epoch 174/200\n",
            "30/30 [==============================] - 0s 75us/sample - loss: 7.9444e-06\n",
            "Epoch 175/200\n",
            "30/30 [==============================] - 0s 80us/sample - loss: 2.0642e-06\n",
            "Epoch 176/200\n",
            "30/30 [==============================] - 0s 61us/sample - loss: 6.2695e-07\n",
            "Epoch 177/200\n",
            "30/30 [==============================] - 0s 79us/sample - loss: 5.1015e-06\n",
            "Epoch 178/200\n",
            "30/30 [==============================] - 0s 58us/sample - loss: 4.1817e-06\n",
            "Epoch 179/200\n",
            "30/30 [==============================] - 0s 77us/sample - loss: 2.1344e-07\n",
            "Epoch 180/200\n",
            "30/30 [==============================] - 0s 76us/sample - loss: 1.6771e-06\n",
            "Epoch 181/200\n",
            "30/30 [==============================] - 0s 54us/sample - loss: 3.9257e-06\n",
            "Epoch 182/200\n",
            "30/30 [==============================] - 0s 59us/sample - loss: 1.5100e-06\n",
            "Epoch 183/200\n",
            "30/30 [==============================] - 0s 55us/sample - loss: 9.9226e-08\n",
            "Epoch 184/200\n",
            "30/30 [==============================] - 0s 67us/sample - loss: 2.1790e-06\n",
            "Epoch 185/200\n",
            "30/30 [==============================] - 0s 53us/sample - loss: 2.2603e-06\n",
            "Epoch 186/200\n",
            "30/30 [==============================] - 0s 42us/sample - loss: 2.2960e-07\n",
            "Epoch 187/200\n",
            "30/30 [==============================] - 0s 49us/sample - loss: 6.1144e-07\n",
            "Epoch 188/200\n",
            "30/30 [==============================] - 0s 71us/sample - loss: 1.8697e-06\n",
            "Epoch 189/200\n",
            "30/30 [==============================] - 0s 51us/sample - loss: 8.6681e-07\n",
            "Epoch 190/200\n",
            "30/30 [==============================] - 0s 54us/sample - loss: 1.8524e-08\n",
            "Epoch 191/200\n",
            "30/30 [==============================] - 0s 51us/sample - loss: 9.7732e-07\n",
            "Epoch 192/200\n",
            "30/30 [==============================] - 0s 66us/sample - loss: 1.1323e-06\n",
            "Epoch 193/200\n",
            "30/30 [==============================] - 0s 75us/sample - loss: 1.4005e-07\n",
            "Epoch 194/200\n",
            "30/30 [==============================] - 0s 51us/sample - loss: 2.6645e-07\n",
            "Epoch 195/200\n",
            "30/30 [==============================] - 0s 53us/sample - loss: 8.9602e-07\n",
            "Epoch 196/200\n",
            "30/30 [==============================] - 0s 54us/sample - loss: 4.3127e-07\n",
            "Epoch 197/200\n",
            "30/30 [==============================] - 0s 64us/sample - loss: 8.7616e-09\n",
            "Epoch 198/200\n",
            "30/30 [==============================] - 0s 57us/sample - loss: 4.7261e-07\n",
            "Epoch 199/200\n",
            "30/30 [==============================] - 0s 56us/sample - loss: 5.4414e-07\n",
            "Epoch 200/200\n",
            "30/30 [==============================] - 0s 52us/sample - loss: 5.9571e-08\n"
          ],
          "name": "stdout"
        }
      ]
    },
    {
      "cell_type": "code",
      "metadata": {
        "id": "mdmOz6bx4Wt_",
        "colab_type": "code",
        "colab": {
          "base_uri": "https://localhost:8080/",
          "height": 34
        },
        "outputId": "0be4842f-1cbc-492b-d51f-bccdb4ce1f59"
      },
      "source": [
        "epochs_hist.history.keys()"
      ],
      "execution_count": 21,
      "outputs": [
        {
          "output_type": "execute_result",
          "data": {
            "text/plain": [
              "dict_keys(['loss'])"
            ]
          },
          "metadata": {
            "tags": []
          },
          "execution_count": 21
        }
      ]
    },
    {
      "cell_type": "code",
      "metadata": {
        "id": "PM25SO1y4lPN",
        "colab_type": "code",
        "colab": {
          "base_uri": "https://localhost:8080/",
          "height": 312
        },
        "outputId": "9494e452-bb3b-4525-be84-1259c39b5080"
      },
      "source": [
        "plt.plot(epochs_hist.history['loss'])\n",
        "plt.title('Model Loss Progress During Training')\n",
        "plt.xlabel('Epoch')\n",
        "plt.ylabel('Training Loss')\n",
        "plt.legend(['Training Loss'])"
      ],
      "execution_count": 22,
      "outputs": [
        {
          "output_type": "execute_result",
          "data": {
            "text/plain": [
              "<matplotlib.legend.Legend at 0x7f59a7a7aeb8>"
            ]
          },
          "metadata": {
            "tags": []
          },
          "execution_count": 22
        },
        {
          "output_type": "display_data",
          "data": {
            "image/png": "[encoded data removed]",
            "text/plain": [
              "<Figure size 432x288 with 1 Axes>"
            ]
          },
          "metadata": {
            "tags": []
          }
        }
      ]
    },
    {
      "cell_type": "code",
      "metadata": {
        "id": "jufgbf-64pWX",
        "colab_type": "code",
        "colab": {
          "base_uri": "https://localhost:8080/",
          "height": 34
        },
        "outputId": "efa10134-5d5a-40a8-eece-710953c0cd5b"
      },
      "source": [
        "model.get_weights()"
      ],
      "execution_count": 23,
      "outputs": [
        {
          "output_type": "execute_result",
          "data": {
            "text/plain": [
              "[array([[1.8000168]], dtype=float32), array([32.000008], dtype=float32)]"
            ]
          },
          "metadata": {
            "tags": []
          },
          "execution_count": 23
        }
      ]
    },
    {
      "cell_type": "code",
      "metadata": {
        "id": "I1cBtKkh4wng",
        "colab_type": "code",
        "colab": {
          "base_uri": "https://localhost:8080/",
          "height": 34
        },
        "outputId": "e2f74cc9-bcf9-4c32-f544-7706a61b8aaa"
      },
      "source": [
        "# Use the trained model to perform predictions\n",
        "\n",
        "Temp_C = 0\n",
        "Temp_F = model.predict([Temp_C])\n",
        "print('Temperature in degF Using Trained ANN =', Temp_F)\n"
      ],
      "execution_count": 24,
      "outputs": [
        {
          "output_type": "stream",
          "text": [
            "Temperature in degF Using Trained ANN = [[32.000008]]\n"
          ],
          "name": "stdout"
        }
      ]
    },
    {
      "cell_type": "code",
      "metadata": {
        "id": "MfkStkvi4zdU",
        "colab_type": "code",
        "colab": {
          "base_uri": "https://localhost:8080/",
          "height": 34
        },
        "outputId": "0ed0f8b2-9184-4173-b38a-d3f286e04ff7"
      },
      "source": [
        "# Let's confirm this Using the equation: \n",
        "Temp_F = 9/5 * Temp_C + 32\n",
        "print('Temperature in degF Using Equation =', Temp_F)\n"
      ],
      "execution_count": 25,
      "outputs": [
        {
          "output_type": "stream",
          "text": [
            "Temperature in degF Using Equation = 32.0\n"
          ],
          "name": "stdout"
        }
      ]
    },
    {
      "cell_type": "code",
      "metadata": {
        "id": "ic8J8w6N44UV",
        "colab_type": "code",
        "colab": {}
      },
      "source": [
        ""
      ],
      "execution_count": 0,
      "outputs": []
    }
  ]
}